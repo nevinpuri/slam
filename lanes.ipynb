{
 "cells": [
  {
   "cell_type": "code",
   "execution_count": 38,
   "id": "cbfadff2",
   "metadata": {},
   "outputs": [],
   "source": [
    "import numpy as np\n",
    "import cv2 as cv\n",
    "import matplotlib.pyplot as plt\n",
    "from fastai.data.transforms import get_image_files\n",
    "from fastai.vision.data import SegmentationDataLoaders\n",
    "from os import path\n",
    "from fastseg.image import colorize"
   ]
  },
  {
   "cell_type": "code",
   "execution_count": 25,
   "id": "9a1e3483",
   "metadata": {},
   "outputs": [
    {
     "name": "stdout",
     "output_type": "stream",
     "text": [
      "/media/nevin/Trash Games1/culane/test/00000.lines.txt\n"
     ]
    }
   ],
   "source": [
    "base_dir = \"/media/nevin/Trash Games1/culane\"\n",
    "test_dir = path.join(base_dir, \"test/\")\n",
    "image_files = get_image_files(test_dir)\n",
    "\n",
    "def label_func(input):\n",
    "    return f\"{test_dir}{input.stem}.lines.txt\"\n",
    "\n",
    "print(label_func(image_files[0]))"
   ]
  },
  {
   "cell_type": "code",
   "execution_count": 32,
   "id": "e06dea18",
   "metadata": {},
   "outputs": [],
   "source": [
    "image = image_files[100]\n",
    "l_file = label_func(image)\n",
    "\n",
    "# todo, don't write to the actual array or whatever\n",
    "def get_points(label_file):\n",
    "    with open(label_file) as file:\n",
    "        print(file)\n",
    "        lines = file.readlines()\n",
    "        lines = [line.rstrip() for line in lines]\n",
    "\n",
    "    points = [[] for line in lines]\n",
    "    for idx, line in enumerate(lines):\n",
    "        split = line.split(\" \")\n",
    "        for i in range(0, len(split), 2):\n",
    "            points[idx].append([int(float(split[i])), int(float(split[i + 1]))]) # it works\n",
    "            # print(split[i], split[i + 1])\n",
    "    \n",
    "    return np.array(points, dtype=object)"
   ]
  },
  {
   "cell_type": "code",
   "execution_count": 51,
   "id": "6576f27f",
   "metadata": {},
   "outputs": [
    {
     "name": "stdout",
     "output_type": "stream",
     "text": [
      "<_io.TextIOWrapper name='/media/nevin/Trash Games1/culane/test/02760.lines.txt' mode='r' encoding='UTF-8'>\n"
     ]
    },
    {
     "data": {
      "text/plain": [
       "<matplotlib.image.AxesImage at 0x7ffa035ab160>"
      ]
     },
     "execution_count": 51,
     "metadata": {},
     "output_type": "execute_result"
    },
    {
     "data": {
      "image/png": "[encoded data removed]",
      "text/plain": [
       "<Figure size 1332x756 with 1 Axes>"
      ]
     },
     "metadata": {
      "needs_background": "light"
     },
     "output_type": "display_data"
    }
   ],
   "source": [
    "fig = plt.gcf()\n",
    "fig.set_size_inches(18.5, 10.5)\n",
    "\n",
    "img = cv.imread(str(image))\n",
    "h, w, c = img.shape\n",
    "\n",
    "all_points = get_points(l_file)\n",
    "\n",
    "def gen_seg(image, points):\n",
    "    seg_image = np.zeros((h, w), np.uint8)\n",
    "    for i in range(len(points)):\n",
    "        point = np.asarray(points[i])\n",
    "        x = point[:, 0]\n",
    "        y = point[:, 1]\n",
    "\n",
    "        poly = np.polyfit(x, y, 3)\n",
    "        poly_y = [np.polyval(poly, i) for i in x]\n",
    "\n",
    "        draw_points = (np.asarray([x, poly_y]).T).astype(np.int32)\n",
    "        # print(point)\n",
    "\n",
    "        seg_image = cv.polylines(seg_image, [draw_points], False, color=(1, 0, 0), thickness=10)\n",
    "\n",
    "    return seg_image\n",
    "\n",
    "    # plt.plot(x, poly_y)\n",
    "    # plt.show()\n",
    "\n",
    "plt.imshow(gen_seg(img, all_points))\n",
    "\n",
    "# for point in points:\n",
    "    # img = cv.circle(img, (point[0], point[1]), radius=2, color=(0, 0, 255), thickness=10)\n",
    "\n",
    "# plt.imshow(img)"
   ]
  },
  {
   "cell_type": "code",
   "execution_count": 4,
   "id": "28817b86",
   "metadata": {},
   "outputs": [],
   "source": [
    "codes = [\"lane\"]"
   ]
  },
  {
   "cell_type": "code",
   "execution_count": 5,
   "id": "375d687c",
   "metadata": {},
   "outputs": [
    {
     "ename": "NameError",
     "evalue": "name 'images_files' is not defined",
     "output_type": "error",
     "traceback": [
      "\u001b[0;31m---------------------------------------------------------------------------\u001b[0m",
      "\u001b[0;31mNameError\u001b[0m                                 Traceback (most recent call last)",
      "Input \u001b[0;32mIn [5]\u001b[0m, in \u001b[0;36m<cell line: 1>\u001b[0;34m()\u001b[0m\n\u001b[1;32m      1\u001b[0m dls \u001b[38;5;241m=\u001b[39m SegmentationDataLoaders\u001b[38;5;241m.\u001b[39mfrom_label_func(\n\u001b[1;32m      2\u001b[0m     path\u001b[38;5;241m=\u001b[39m\u001b[38;5;124m\"\u001b[39m\u001b[38;5;124m/media/nevin/Trash Games1/culane\u001b[39m\u001b[38;5;124m\"\u001b[39m,\n\u001b[1;32m      3\u001b[0m     bs\u001b[38;5;241m=\u001b[39m\u001b[38;5;241m4\u001b[39m,\n\u001b[0;32m----> 4\u001b[0m     fnames\u001b[38;5;241m=\u001b[39m\u001b[43mimages_files\u001b[49m,\n\u001b[1;32m      5\u001b[0m     label_func\u001b[38;5;241m=\u001b[39mlabel_func,\n\u001b[1;32m      6\u001b[0m )\n",
      "\u001b[0;31mNameError\u001b[0m: name 'images_files' is not defined"
     ]
    }
   ],
   "source": [
    "dls = SegmentationDataLoaders.from_label_func(\n",
    "    path=\"/media/nevin/Trash Games1/culane\",\n",
    "    bs=4,\n",
    "    fnames=images_files,\n",
    "    label_func=label_func,\n",
    ")"
   ]
  },
  {
   "cell_type": "code",
   "execution_count": null,
   "id": "e0f7e69a",
   "metadata": {},
   "outputs": [],
   "source": [
    "dls[0]"
   ]
  }
 ],
 "metadata": {
  "kernelspec": {
   "display_name": "Python 3.10.6 64-bit",
   "language": "python",
   "name": "python3"
  },
  "language_info": {
   "codemirror_mode": {
    "name": "ipython",
    "version": 3
   },
   "file_extension": ".py",
   "mimetype": "text/x-python",
   "name": "python",
   "nbconvert_exporter": "python",
   "pygments_lexer": "ipython3",
   "version": "3.10.6"
  },
  "vscode": {
   "interpreter": {
    "hash": "31f2aee4e71d21fbe5cf8b01ff0e069b9275f58929596ceb00d14d90e3e16cd6"
   }
  }
 },
 "nbformat": 4,
 "nbformat_minor": 5
}
