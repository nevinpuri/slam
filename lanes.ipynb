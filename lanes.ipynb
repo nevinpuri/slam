{
 "cells": [
  {
   "cell_type": "code",
   "execution_count": 1,
   "id": "cbfadff2",
   "metadata": {},
   "outputs": [],
   "source": [
    "import numpy as np\n",
    "import cv2 as cv\n",
    "import matplotlib.pyplot as plt\n",
    "from fastai.data.transforms import get_image_files\n",
    "from fastai.vision.data import SegmentationDataLoaders\n",
    "from os import path"
   ]
  },
  {
   "cell_type": "code",
   "execution_count": 2,
   "id": "9a1e3483",
   "metadata": {},
   "outputs": [],
   "source": [
    "base_dir = \"/media/nevin/Trash Games1/culane\"\n",
    "image_files = get_image_files(path.join(base_dir, \"test/\"))"
   ]
  },
  {
   "cell_type": "code",
   "execution_count": 3,
   "id": "8ab6ce2e",
   "metadata": {},
   "outputs": [
    {
     "name": "stdout",
     "output_type": "stream",
     "text": [
      "/media/nevin/Trash Games1/culane/test_labels/00000.lines.txt\n"
     ]
    }
   ],
   "source": [
    "def label_func(input):\n",
    "    return f\"{base_dir}/test_labels/{input.stem}.lines.txt\"\n",
    "\n",
    "print(label_func(image_files[0]))"
   ]
  },
  {
   "cell_type": "code",
   "execution_count": 4,
   "id": "28817b86",
   "metadata": {},
   "outputs": [],
   "source": [
    "codes = [\"lane\"]"
   ]
  },
  {
   "cell_type": "code",
   "execution_count": 5,
   "id": "375d687c",
   "metadata": {},
   "outputs": [
    {
     "ename": "NameError",
     "evalue": "name 'images_files' is not defined",
     "output_type": "error",
     "traceback": [
      "\u001b[0;31m---------------------------------------------------------------------------\u001b[0m",
      "\u001b[0;31mNameError\u001b[0m                                 Traceback (most recent call last)",
      "Input \u001b[0;32mIn [5]\u001b[0m, in \u001b[0;36m<cell line: 1>\u001b[0;34m()\u001b[0m\n\u001b[1;32m      1\u001b[0m dls \u001b[38;5;241m=\u001b[39m SegmentationDataLoaders\u001b[38;5;241m.\u001b[39mfrom_label_func(\n\u001b[1;32m      2\u001b[0m     path\u001b[38;5;241m=\u001b[39m\u001b[38;5;124m\"\u001b[39m\u001b[38;5;124m/media/nevin/Trash Games1/culane\u001b[39m\u001b[38;5;124m\"\u001b[39m,\n\u001b[1;32m      3\u001b[0m     bs\u001b[38;5;241m=\u001b[39m\u001b[38;5;241m4\u001b[39m,\n\u001b[0;32m----> 4\u001b[0m     fnames\u001b[38;5;241m=\u001b[39m\u001b[43mimages_files\u001b[49m,\n\u001b[1;32m      5\u001b[0m     label_func\u001b[38;5;241m=\u001b[39mlabel_func,\n\u001b[1;32m      6\u001b[0m )\n",
      "\u001b[0;31mNameError\u001b[0m: name 'images_files' is not defined"
     ]
    }
   ],
   "source": [
    "dls = SegmentationDataLoaders.from_label_func(\n",
    "    path=\"/media/nevin/Trash Games1/culane\",\n",
    "    bs=4,\n",
    "    fnames=images_files,\n",
    "    label_func=label_func,\n",
    ")"
   ]
  },
  {
   "cell_type": "code",
   "execution_count": null,
   "id": "e0f7e69a",
   "metadata": {},
   "outputs": [],
   "source": [
    "dls[0]"
   ]
  }
 ],
 "metadata": {
  "kernelspec": {
   "display_name": "Python 3 (ipykernel)",
   "language": "python",
   "name": "python3"
  },
  "language_info": {
   "codemirror_mode": {
    "name": "ipython",
    "version": 3
   },
   "file_extension": ".py",
   "mimetype": "text/x-python",
   "name": "python",
   "nbconvert_exporter": "python",
   "pygments_lexer": "ipython3",
   "version": "3.10.6"
  }
 },
 "nbformat": 4,
 "nbformat_minor": 5
}
