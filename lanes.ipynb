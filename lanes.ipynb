{
 "cells": [
  {
   "cell_type": "code",
   "execution_count": 1,
   "id": "cbfadff2",
   "metadata": {},
   "outputs": [],
   "source": [
    "import numpy as np\n",
    "import cv2 as cv\n",
    "import matplotlib.pyplot as plt\n",
    "from fastai.data.transforms import get_image_files\n",
    "from fastai.vision.data import SegmentationDataLoaders\n",
    "from os import path"
   ]
  },
  {
   "cell_type": "code",
   "execution_count": 2,
   "id": "9a1e3483",
   "metadata": {},
   "outputs": [],
   "source": [
    "base_dir = \"/media/nevin/Trash Games1/culane\"\n",
    "image_files = get_image_files(path.join(base_dir, \"test/\"))"
   ]
  },
  {
   "cell_type": "code",
   "execution_count": 3,
   "id": "f1121204",
   "metadata": {},
   "outputs": [
    {
     "name": "stdout",
     "output_type": "stream",
     "text": [
      "/media/nevin/Trash Games1/culane/test/00000.jpg\n"
     ]
    }
   ],
   "source": [
    "print(image_files[0])"
   ]
  },
  {
   "cell_type": "code",
   "execution_count": 5,
   "id": "8ab6ce2e",
   "metadata": {},
   "outputs": [
    {
     "name": "stdout",
     "output_type": "stream",
     "text": [
      "/media/nevin/Trash Games1/culane/test/00000.lines.txt\n"
     ]
    }
   ],
   "source": [
    "def label_func(input):\n",
    "    return f\"{base_dir}/test/{input.stem}.lines.txt\"\n",
    "\n",
    "print(label_func(image_files[0]))"
   ]
  },
  {
   "cell_type": "code",
   "execution_count": 6,
   "id": "2f8d9e52",
   "metadata": {},
   "outputs": [
    {
     "name": "stdout",
     "output_type": "stream",
     "text": [
      "[[240, 590], [257, 580], [275, 570], [292, 560], [309, 550], [327, 540], [344, 530], [361, 520], [379, 510], [396, 500], [413, 490], [431, 480], [448, 470], [467, 460], [484, 450], [502, 440], [520, 430], [538, 420], [557, 410], [575, 400], [593, 390], [612, 380], [630, 370], [649, 360], [667, 350], [686, 340], [704, 330], [722, 320], [741, 310], [759, 300], [778, 290]]\n"
     ]
    }
   ],
   "source": [
    "image = image_files[0]\n",
    "l_file = label_func(image)\n",
    "\n",
    "# todo, don't write to the actual array or whatever\n",
    "def get_points(label_file):\n",
    "    with open(label_file) as file:\n",
    "        lines = file.readlines()\n",
    "        lines = [line.rstrip() for line in lines]\n",
    "\n",
    "    points = [[] for line in lines]\n",
    "    for idx, line in enumerate(lines):\n",
    "        split = line.split(\" \")\n",
    "        for i in range(0, len(split), 2):\n",
    "            points[idx].append([int(float(split[i])), int(float(split[i + 1]))]) # it works\n",
    "            # print(split[i], split[i + 1])\n",
    "    \n",
    "    return np.array(points, dtype=object)\n",
    "\n",
    "print(get_points(l_file)[0])"
   ]
  },
  {
   "cell_type": "code",
   "execution_count": 7,
   "id": "e06dea18",
   "metadata": {},
   "outputs": [
    {
     "name": "stdout",
     "output_type": "stream",
     "text": [
      "/media/nevin/Trash Games1/culane/test/00000.jpg\n"
     ]
    },
    {
     "ename": "TypeError",
     "evalue": "list indices must be integers or slices, not tuple",
     "output_type": "error",
     "traceback": [
      "\u001b[0;31m---------------------------------------------------------------------------\u001b[0m",
      "\u001b[0;31mTypeError\u001b[0m                                 Traceback (most recent call last)",
      "\u001b[1;32m/home/nevin/Desktop/slam/lanes.ipynb Cell 6\u001b[0m in \u001b[0;36m<cell line: 5>\u001b[0;34m()\u001b[0m\n\u001b[1;32m      <a href='vscode-notebook-cell:/home/nevin/Desktop/slam/lanes.ipynb#X15sZmlsZQ%3D%3D?line=2'>3</a>\u001b[0m all_points \u001b[39m=\u001b[39m get_points(l_file)\n\u001b[1;32m      <a href='vscode-notebook-cell:/home/nevin/Desktop/slam/lanes.ipynb#X15sZmlsZQ%3D%3D?line=4'>5</a>\u001b[0m \u001b[39mfor\u001b[39;00m idx, point_line \u001b[39min\u001b[39;00m \u001b[39menumerate\u001b[39m(all_points):\n\u001b[0;32m----> <a href='vscode-notebook-cell:/home/nevin/Desktop/slam/lanes.ipynb#X15sZmlsZQ%3D%3D?line=5'>6</a>\u001b[0m     x \u001b[39m=\u001b[39m point_line[:, \u001b[39m0\u001b[39;49m]\n\u001b[1;32m      <a href='vscode-notebook-cell:/home/nevin/Desktop/slam/lanes.ipynb#X15sZmlsZQ%3D%3D?line=6'>7</a>\u001b[0m     y \u001b[39m=\u001b[39m point_line[:, \u001b[39m1\u001b[39m]\n\u001b[1;32m      <a href='vscode-notebook-cell:/home/nevin/Desktop/slam/lanes.ipynb#X15sZmlsZQ%3D%3D?line=8'>9</a>\u001b[0m     poly \u001b[39m=\u001b[39m np\u001b[39m.\u001b[39mpolyfit(x, y, \u001b[39m3\u001b[39m)\n",
      "\u001b[0;31mTypeError\u001b[0m: list indices must be integers or slices, not tuple"
     ]
    }
   ],
   "source": [
    "print(str(image))\n",
    "img = cv.imread(str(image))\n",
    "all_points = get_points(l_file)\n",
    "\n",
    "for idx, line in enumerate(all_points):\n",
    "    point = np.asarray(all_points[idx])\n",
    "    x = point[:, 0]\n",
    "    y = point[:, 1]\n",
    "\n",
    "    poly = np.polyfit(x, y, 3)\n",
    "    range = np.linspace(0, 10, 100)\n",
    "    poly_y = [np.polyval(poly, i) for i in x]\n",
    "\n",
    "    plt.plot(x, poly_y)\n",
    "    plt.show()\n",
    "    break\n",
    "\n",
    "# for point in points:\n",
    "    # img = cv.circle(img, (point[0], point[1]), radius=2, color=(0, 0, 255), thickness=10)\n",
    "\n",
    "# plt.imshow(img)"
   ]
  },
  {
   "cell_type": "code",
   "execution_count": 4,
   "id": "28817b86",
   "metadata": {},
   "outputs": [],
   "source": [
    "codes = [\"lane\"]"
   ]
  },
  {
   "cell_type": "code",
   "execution_count": 5,
   "id": "375d687c",
   "metadata": {},
   "outputs": [
    {
     "ename": "NameError",
     "evalue": "name 'images_files' is not defined",
     "output_type": "error",
     "traceback": [
      "\u001b[0;31m---------------------------------------------------------------------------\u001b[0m",
      "\u001b[0;31mNameError\u001b[0m                                 Traceback (most recent call last)",
      "Input \u001b[0;32mIn [5]\u001b[0m, in \u001b[0;36m<cell line: 1>\u001b[0;34m()\u001b[0m\n\u001b[1;32m      1\u001b[0m dls \u001b[38;5;241m=\u001b[39m SegmentationDataLoaders\u001b[38;5;241m.\u001b[39mfrom_label_func(\n\u001b[1;32m      2\u001b[0m     path\u001b[38;5;241m=\u001b[39m\u001b[38;5;124m\"\u001b[39m\u001b[38;5;124m/media/nevin/Trash Games1/culane\u001b[39m\u001b[38;5;124m\"\u001b[39m,\n\u001b[1;32m      3\u001b[0m     bs\u001b[38;5;241m=\u001b[39m\u001b[38;5;241m4\u001b[39m,\n\u001b[0;32m----> 4\u001b[0m     fnames\u001b[38;5;241m=\u001b[39m\u001b[43mimages_files\u001b[49m,\n\u001b[1;32m      5\u001b[0m     label_func\u001b[38;5;241m=\u001b[39mlabel_func,\n\u001b[1;32m      6\u001b[0m )\n",
      "\u001b[0;31mNameError\u001b[0m: name 'images_files' is not defined"
     ]
    }
   ],
   "source": [
    "dls = SegmentationDataLoaders.from_label_func(\n",
    "    path=\"/media/nevin/Trash Games1/culane\",\n",
    "    bs=4,\n",
    "    fnames=images_files,\n",
    "    label_func=label_func,\n",
    ")"
   ]
  },
  {
   "cell_type": "code",
   "execution_count": null,
   "id": "e0f7e69a",
   "metadata": {},
   "outputs": [],
   "source": [
    "dls[0]"
   ]
  }
 ],
 "metadata": {
  "kernelspec": {
   "display_name": "Python 3 (ipykernel)",
   "language": "python",
   "name": "python3"
  },
  "language_info": {
   "codemirror_mode": {
    "name": "ipython",
    "version": 3
   },
   "file_extension": ".py",
   "mimetype": "text/x-python",
   "name": "python",
   "nbconvert_exporter": "python",
   "pygments_lexer": "ipython3",
   "version": "3.10.6"
  }
 },
 "nbformat": 4,
 "nbformat_minor": 5
}
