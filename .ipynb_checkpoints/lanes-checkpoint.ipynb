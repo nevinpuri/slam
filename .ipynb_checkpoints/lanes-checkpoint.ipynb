{
 "cells": [
  {
   "cell_type": "code",
   "execution_count": 6,
   "id": "e83591f9",
   "metadata": {},
   "outputs": [],
   "source": [
    "import numpy as np\n",
    "import cv2 as cv\n",
    "import matplotlib.pyplot as plt\n",
    "from fastai.data.transforms import get_image_files\n",
    "from fastai.vision.data import SegmentationDataLoaders\n",
    "from os import path"
   ]
  },
  {
   "cell_type": "code",
   "execution_count": 7,
   "id": "f66aed66",
   "metadata": {},
   "outputs": [],
   "source": [
    "base_dir = \"/media/nevin/Trash Games1/culane\"\n",
    "image_files = get_image_files(path.join(base_dir, \"test/\"))"
   ]
  },
  {
   "cell_type": "code",
   "execution_count": 28,
   "id": "a934165f",
   "metadata": {},
   "outputs": [
    {
     "name": "stdout",
     "output_type": "stream",
     "text": [
      "/media/nevin/Trash Games1/culane/test_labels/00000.lines.txt\n"
     ]
    }
   ],
   "source": [
    "def label_func(input):\n",
    "    return f\"{base_dir}/test_labels/{input.stem}.lines.txt\"\n",
    "\n",
    "print(label_func(image_files[0]))"
   ]
  },
  {
   "cell_type": "code",
   "execution_count": null,
   "id": "b7147ac3",
   "metadata": {},
   "outputs": [],
   "source": [
    "dls = "
   ]
  }
 ],
 "metadata": {
  "kernelspec": {
   "display_name": "Python 3 (ipykernel)",
   "language": "python",
   "name": "python3"
  },
  "language_info": {
   "codemirror_mode": {
    "name": "ipython",
    "version": 3
   },
   "file_extension": ".py",
   "mimetype": "text/x-python",
   "name": "python",
   "nbconvert_exporter": "python",
   "pygments_lexer": "ipython3",
   "version": "3.10.6"
  }
 },
 "nbformat": 4,
 "nbformat_minor": 5
}
