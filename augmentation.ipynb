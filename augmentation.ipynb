{
 "cells": [
  {
   "cell_type": "code",
   "execution_count": 28,
   "metadata": {},
   "outputs": [],
   "source": [
    "import numpy as np\n",
    "import cv2 as cv\n",
    "import matplotlib.pyplot as plt\n",
    "from fastai.data.transforms import get_image_files, get_files\n",
    "from fastai.vision.data import SegmentationDataLoaders\n",
    "import os\n",
    "from os import path\n",
    "from fastseg.image import colorize, blend\n",
    "from PIL import Image\n",
    "from tqdm import tqdm\n",
    "import albumentations as A\n",
    "import math"
   ]
  },
  {
   "cell_type": "code",
   "execution_count": 49,
   "metadata": {},
   "outputs": [
    {
     "name": "stdout",
     "output_type": "stream",
     "text": [
      "5284\n"
     ]
    }
   ],
   "source": [
    "base_dir = \"/media/nevin/Trash Games1/culane/driver_23_30frame\"\n",
    "processed_dir = \"/media/nevin/Trash Games1/culane/augmented\"\n",
    "\n",
    "dirs = os.listdir(base_dir)\n",
    "\n",
    "output = []\n",
    "\n",
    "for dir in dirs:\n",
    "    dir = path.join(base_dir, dir)\n",
    "    images = get_image_files(dir)\n",
    "    step = math.floor(len(images) / 14)\n",
    "    if step == 0:\n",
    "        continue\n",
    "    for i in range(0, len(images), step):\n",
    "        output.append(images[i])\n",
    "\n",
    "# print(len(output))\n",
    "print(len(output))"
   ]
  },
  {
   "cell_type": "code",
   "execution_count": 73,
   "metadata": {},
   "outputs": [
    {
     "name": "stderr",
     "output_type": "stream",
     "text": [
      "  0%|          | 0/5284 [00:00<?, ?it/s]\n"
     ]
    }
   ],
   "source": [
    "def get_points(label_file):\n",
    "    with open(label_file) as file:\n",
    "        lines = file.readlines()\n",
    "        lines = [line.rstrip() for line in lines]\n",
    "\n",
    "    points = [[] for line in lines]\n",
    "    for idx, line in enumerate(lines):\n",
    "        split = line.split(\" \")\n",
    "        for i in range(0, len(split), 2):\n",
    "            points[idx].append([int(float(split[i])), int(float(split[i + 1]))]) # it works\n",
    "    \n",
    "    return np.array(points, dtype=object)\n",
    "\n",
    "\n",
    "def gen_seg(image, points):\n",
    "    h, w, c = image.shape\n",
    "    seg_image = np.zeros((h, w), np.uint8)\n",
    "    for i in range(len(points)):\n",
    "        point = np.asarray(points[i])\n",
    "        x = point[:, 0]\n",
    "        y = point[:, 1]\n",
    "\n",
    "        draw_points = (np.asarray([x, y]).T).astype(np.int32)\n",
    "\n",
    "        seg_image = cv.polylines(seg_image, [draw_points], False, color=(1, 0, 0), thickness=10)\n",
    "    \n",
    "    return seg_image\n",
    "\n",
    "\n",
    "for image in tqdm(output):\n",
    "    img_save_path = os.path.join(processed_dir, \"images/\", image.name)\n",
    "    seg_save_path = os.path.join(processed_dir, \"labels/\", f\"{image.stem}.png\")\n",
    "    label_path = f\"{image.parent}/{image.stem}.lines.txt\"\n",
    "\n",
    "    img = cv.imread(str(image))\n",
    "    img = cv.cvtColor(img, cv.COLOR_BGR2RGB)\n",
    "\n",
    "    points = get_points(label_path)\n",
    "    seg_mask = gen_seg(img, points)\n",
    "\n",
    "    # maybe don't do this for data augmentation later but for now it's fine\n",
    "    img = img[0:500, 400:1200]\n",
    "    seg_mask = seg_mask[0:500, 400:1200]\n",
    "\n",
    "    img = Image.fromarray(img)\n",
    "    img.save(img_save_path)\n",
    "\n",
    "    seg_mask = Image.fromarray(seg_mask)\n",
    "    seg_mask.save(seg_save_path)"
   ]
  },
  {
   "cell_type": "code",
   "execution_count": 61,
   "metadata": {},
   "outputs": [
    {
     "name": "stdout",
     "output_type": "stream",
     "text": [
      "/media/nevin/Trash Games1/culane/driver_23_30frame/05151640_0419.MP4/00000.lines.txt\n"
     ]
    }
   ],
   "source": [
    "def label_func(input):\n",
    "    return f\"{input.parent}/{input.stem}.lines.txt\"\n",
    "\n",
    "dls = SegmentationDataLoaders\n"
   ]
  }
 ],
 "metadata": {
  "kernelspec": {
   "display_name": "Python 3.10.6 64-bit",
   "language": "python",
   "name": "python3"
  },
  "language_info": {
   "codemirror_mode": {
    "name": "ipython",
    "version": 3
   },
   "file_extension": ".py",
   "mimetype": "text/x-python",
   "name": "python",
   "nbconvert_exporter": "python",
   "pygments_lexer": "ipython3",
   "version": "3.10.6"
  },
  "orig_nbformat": 4,
  "vscode": {
   "interpreter": {
    "hash": "31f2aee4e71d21fbe5cf8b01ff0e069b9275f58929596ceb00d14d90e3e16cd6"
   }
  }
 },
 "nbformat": 4,
 "nbformat_minor": 2
}
